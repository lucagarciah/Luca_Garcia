{
 "cells": [
  {
   "cell_type": "markdown",
   "metadata": {},
   "source": [
    "## Colocar os dados de IMDB em um banco de dados SQL "
   ]
  },
  {
   "cell_type": "code",
   "execution_count": 1,
   "metadata": {},
   "outputs": [],
   "source": [
    "import sqlite3\n",
    "import pandas as pd"
   ]
  },
  {
   "cell_type": "markdown",
   "metadata": {},
   "source": [
    "#### Criar um banco de dados para armazernar as informações "
   ]
  },
  {
   "cell_type": "code",
   "execution_count": 16,
   "metadata": {},
   "outputs": [],
   "source": [
    "# Criar uma conexão com o banco de dados SQLite\n",
    "conn = sqlite3.connect('movies.db')\n",
    "cursor = conn.cursor()\n",
    "\n",
    "# Criar a tabela 'movies'\n",
    "cursor.execute('''\n",
    "CREATE TABLE IF NOT EXISTS movies (\n",
    "    id TEXT PRIMARY KEY,\n",
    "    name TEXT,\n",
    "    year TEXT,\n",
    "    rating REAL,\n",
    "    certificate TEXT,\n",
    "    duration TEXT,\n",
    "    genre TEXT,\n",
    "    votes TEXT,\n",
    "    gross_income TEXT,\n",
    "    directors_id TEXT,\n",
    "    directors_name TEXT,\n",
    "    stars_id TEXT,\n",
    "    stars_name TEXT,\n",
    "    description TEXT\n",
    ")\n",
    "''')\n",
    "\n",
    "conn.commit()\n"
   ]
  },
  {
   "cell_type": "markdown",
   "metadata": {},
   "source": [
    "### Ler o arquivo csv e inserir os dados na base de dados do IMDB"
   ]
  },
  {
   "cell_type": "code",
   "execution_count": 17,
   "metadata": {},
   "outputs": [
    {
     "name": "stderr",
     "output_type": "stream",
     "text": [
      "C:\\Users\\lucag\\AppData\\Local\\Temp\\ipykernel_4336\\558443073.py:2: DtypeWarning: Columns (7,8) have mixed types. Specify dtype option on import or set low_memory=False.\n",
      "  df = pd.read_csv(r'C:\\Users\\lucag\\Documents\\Portifolio_profissional\\SQL\\IMDB\\dataset\\movies.csv')\n"
     ]
    }
   ],
   "source": [
    "# Ler o arquivo CSV\n",
    "df = pd.read_csv(r'C:\\Users\\lucag\\Documents\\Portifolio_profissional\\SQL\\IMDB\\dataset\\movies.csv')\n",
    "# Inserir os dados na tabela 'movies'\n",
    "df.to_sql('movies', conn, if_exists='append', index=False)\n",
    "\n",
    "conn.commit()"
   ]
  },
  {
   "cell_type": "markdown",
   "metadata": {},
   "source": [
    "### Verifocando se os dados estão na base de dados"
   ]
  },
  {
   "cell_type": "code",
   "execution_count": 19,
   "metadata": {},
   "outputs": [
    {
     "name": "stdout",
     "output_type": "stream",
     "text": [
      "('tt4710316', 'Best in Sex: 2015 AVN Awards', '(2015 TV Special)', 4.0, 'TV-MA', '94 min', 'Adult, News', '124.0', '0', 'nm1624094', 'Gary Miller', 'nm4766272,nm2670531,nm4920605,nm6284246', 'Farrah Laurel Abraham,Asa Akira,Anikka Albrite,August Ames', 'The hottest adult stars and top adult movies are celebrated at this awards ceremony at the Hard Rock Hotel & Casino in Las Vegas, where everything from Best Big Bust Release, Best Celebrity Sex Tape and Best Orgy are paid tribute to.')\n",
      "('tt1281857', 'Naughty Novelist', '(2008 Video)', 3.8, 'Not Certified', '88 min', 'Adult', '174.0', '0', 'nm0045256', 'John Bacchus', 'nm0128986,nm1969196,nm0451160,nm6130462', 'Darian Caine,Jackie Stevens,A.J. Khan,Arrora', 'Darian is a successful journalist but when she moves to a new town she starts looking for work. When she answers an ad in the local paper she finds the job is writing lesbian erotica and its not long before fantasy becomes reality.')\n",
      "('tt2294954', '2011 AVN Awards Show', '(2011 TV Special)', 5.7, 'Not Certified', '83 min', 'Adult, News', '39.0', '0', 'nm1624094,nm0754845', 'Gary Miller,Timothy E. Sabo', 'nm2200343,nm2670531,nm1267549,nm3585599', 'Aubrey Addams,Asa Akira,Monique Alexander,Raven Alexis', 'Add a Plot')\n",
      "('tt6843596', 'Best in Sex: 2017 AVN Awards', '(2017 TV Special)', 4.9, 'TV-MA', '87 min', 'Adult, News', '225.0', '0', 'nm1624094', 'Gary Miller', 'nm5221471,nm2670531,nm4920605,nm3038816', 'Amirah Adara,Asa Akira,Anikka Albrite,Britney Amber', \"Considered the industry's highest honor, the AVN Awards celebrates outstanding achievements in the world of adult entertainment in categories that recognize performers, directors, retailers...                See full summary\\xa0»\")\n",
      "('tt3705604', 'AVN Awards 2014', '(2014 TV Special)', 6.7, 'R', '82 min', 'Adult, News', '101.0', '0', 'nm1624094', 'Gary Miller', 'nm2670531,nm4920605,nm6284246,nm3992720', 'Asa Akira,Anikka Albrite,August Ames,Jessie Andrews', 'Erotic filmmaking superstars Chanel Preston and Samantha Saint host the 31st annual adult movie awards from The Joint at the Hard Rock Hotel and Casino in Las Vegas, honoring the best work ...                See full summary\\xa0»')\n",
      "('tt12741008', 'Couples Guest House', '(2020– )', 6.0, 'Not Certified', '0 min', 'Adult, Romance', '54.0', '0', 'Anonymous', 'nm0000000', 'nm11750590,nm11750463,nm11750588,nm11750589', 'Jayesh Arora,Rakhi Sharma,Ekta Killar,Vinod Goswami', '2 romantic couples moves out for a trip and stay at Couples Guest House. The romance-filled story turns upside down and become a nightmare.')\n",
      "('tt0207195', 'Wadd: The Life & Times of John C. Holmes', '(1999)', 6.8, 'NC-17', '105 min', 'Documentary, Adult, Biography', '907.0', '0', 'nm0256178', 'Wesley Emerson', 'nm0001360,nm1720643,nm0024662,nm1632456', 'John Holmes,Linda Adrain,Bill Amerson,Denise Amerson', 'Friends, enemies, acquaintances, and family of porn star John Holmes recall their experiences with him, from his childhood to his eventual death from AIDS in 1988.')\n",
      "('tt3450356', 'The Sex Awards', '(2014 TV Special)', 7.1, 'TV-MA', '72 min', 'Adult, News', '74.0', '0', 'nm6563445', 'Doug Fresh', 'nm0236928,nm5190883,nm5047567,nm2670531', 'Jessica Drake,Veruca James,Penny Pax,Asa Akira', 'Who will be crowned the first Porn Star of the Year? In the first fan-voted award show to be shown on television this behind-the-scenes look at the lives of the major porn stars provides ...                See full summary\\xa0»')\n",
      "('tt7630866', 'Modern Romance', '(2017 Video)', 7.3, 'Not Certified', '103 min', 'Adult, Romance', '28.0', '0', 'nm1754477', 'Holly Randall', 'nm8760098,nm6284246,nm3631553,nm3742007', 'Nancy Ace,August Ames,Bill Bailey,Vicki Chase', 'Add a Plot')\n",
      "('tt0329254', 'The Kama Sutra of Vatsyayana', '(1993 Video)', 2.9, 'Unrated', '60 min', 'Documentary, Adult', '25.0', '0', 'nm1227435', 'Horace Edgar', 'nm1228328,nm0598940,nm1226431,nm0909145', 'Mohinderjeet,Tony Montana,Cheyenne,Marc Wallice', 'Add a Plot')\n"
     ]
    }
   ],
   "source": [
    "# Conectar ao banco de dados\n",
    "conn = sqlite3.connect('movies.db')\n",
    "cursor = conn.cursor()\n",
    "\n",
    "# Consulta SQL para selecionar todos os registros\n",
    "query = 'SELECT * FROM movies LIMIT 10'\n",
    "\n",
    "# Executar a consulta\n",
    "result = cursor.execute(query).fetchall()\n",
    "\n",
    "# Exibir os resultados\n",
    "for row in result:\n",
    "    print(row)\n",
    "\n",
    "# Fechar a conexão\n",
    "conn.close()\n"
   ]
  }
 ],
 "metadata": {
  "kernelspec": {
   "display_name": "meu_ambiente",
   "language": "python",
   "name": "python3"
  },
  "language_info": {
   "codemirror_mode": {
    "name": "ipython",
    "version": 3
   },
   "file_extension": ".py",
   "mimetype": "text/x-python",
   "name": "python",
   "nbconvert_exporter": "python",
   "pygments_lexer": "ipython3",
   "version": "3.11.5"
  }
 },
 "nbformat": 4,
 "nbformat_minor": 2
}
